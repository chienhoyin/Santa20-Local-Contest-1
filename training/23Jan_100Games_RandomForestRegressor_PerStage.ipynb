{
 "cells": [
  {
   "cell_type": "markdown",
   "id": "revolutionary-nowhere",
   "metadata": {},
   "source": [
    "### SUMMARY EXECUTIVE\n",
    "RandomForestRegressor has decaying predictive power over stage (1-4)"
   ]
  },
  {
   "cell_type": "code",
   "execution_count": 1,
   "id": "minus-impact",
   "metadata": {},
   "outputs": [],
   "source": [
    "import os\n",
    "import joblib\n",
    "\n",
    "import numpy as np\n",
    "import pandas as pd\n",
    "import matplotlib.pyplot as plt\n",
    "\n",
    "from sklearn.model_selection import GridSearchCV\n",
    "from sklearn.metrics import mean_squared_error, mean_absolute_error, r2_score\n",
    "from sklearn.model_selection import train_test_split\n",
    "from sklearn.ensemble import RandomForestRegressor\n",
    "\n",
    "%matplotlib inline\n",
    "%load_ext autoreload\n",
    "%autoreload 2"
   ]
  },
  {
   "cell_type": "markdown",
   "id": "numeric-skating",
   "metadata": {},
   "source": [
    "### 0. Prepare Dataset"
   ]
  },
  {
   "cell_type": "code",
   "execution_count": 2,
   "id": "cooperative-queens",
   "metadata": {},
   "outputs": [
    {
     "data": {
      "text/plain": [
       "(799600, 7)"
      ]
     },
     "execution_count": 2,
     "metadata": {},
     "output_type": "execute_result"
    }
   ],
   "source": [
    "csv_path = '../dataset/topagent_dataset/100_games.csv'\n",
    "df = pd.read_csv(csv_path)\n",
    "df.shape"
   ]
  },
  {
   "cell_type": "code",
   "execution_count": 3,
   "id": "checked-courtesy",
   "metadata": {},
   "outputs": [],
   "source": [
    "def group_round(round_num):\n",
    "    if round_num <= 500:\n",
    "        stage = 1\n",
    "    elif round_num <= 1000:\n",
    "        stage = 2\n",
    "    elif round_num <= 1500:\n",
    "        stage = 3\n",
    "    else:\n",
    "        stage = 4\n",
    "    return stage"
   ]
  },
  {
   "cell_type": "code",
   "execution_count": 4,
   "id": "occupational-criterion",
   "metadata": {},
   "outputs": [],
   "source": [
    "df['stage'] = df.round_num.apply(lambda n: group_round(n))"
   ]
  },
  {
   "cell_type": "code",
   "execution_count": 9,
   "id": "refined-monkey",
   "metadata": {},
   "outputs": [
    {
     "data": {
      "text/plain": [
       "((200000, 8), (200000, 8), (200000, 8))"
      ]
     },
     "execution_count": 9,
     "metadata": {},
     "output_type": "execute_result"
    }
   ],
   "source": [
    "df[df.stage == 1].shape, df[df.stage == 2].shape, df[df.stage == 3].shape"
   ]
  },
  {
   "cell_type": "code",
   "execution_count": 10,
   "id": "orange-mitchell",
   "metadata": {},
   "outputs": [],
   "source": [
    "df = df.sample(frac = 1, random_state = 0).reset_index(drop = True)"
   ]
  },
  {
   "cell_type": "code",
   "execution_count": 14,
   "id": "sought-channel",
   "metadata": {},
   "outputs": [],
   "source": [
    "predictor_cols = ['stage', 'n_pulls_self', 'n_success_self', 'n_pulls_opp']\n",
    "target_col = 'payout'"
   ]
  },
  {
   "cell_type": "code",
   "execution_count": 15,
   "id": "measured-anger",
   "metadata": {},
   "outputs": [
    {
     "data": {
      "text/plain": [
       "((799600, 4), (799600,))"
      ]
     },
     "execution_count": 15,
     "metadata": {},
     "output_type": "execute_result"
    }
   ],
   "source": [
    "X, y = df[predictor_cols], df[target_col]\n",
    "X.shape, y.shape"
   ]
  },
  {
   "cell_type": "markdown",
   "id": "mexican-brisbane",
   "metadata": {},
   "source": [
    "### 1. Cross Validation Score per Stage (1/2/3/4)"
   ]
  },
  {
   "cell_type": "code",
   "execution_count": 18,
   "id": "guided-swedish",
   "metadata": {},
   "outputs": [],
   "source": [
    "from sklearn.model_selection import KFold\n",
    "\n",
    "rfr_kwargs = {\n",
    "    'criterion': 'mse', \n",
    "    'max_depth': 9, \n",
    "    'min_samples_leaf': 2}"
   ]
  },
  {
   "cell_type": "code",
   "execution_count": 19,
   "id": "accredited-emphasis",
   "metadata": {},
   "outputs": [],
   "source": [
    "def cv_train(X, y, cv_n):\n",
    "    X = X.copy().to_numpy()\n",
    "    y = y.copy().to_numpy()\n",
    "    \n",
    "    test_scores = []\n",
    "    kf = KFold(\n",
    "        n_splits = 4, \n",
    "        random_state = 0, \n",
    "        shuffle = True)\n",
    "    kf.get_n_splits(X)\n",
    "    \n",
    "    scores = []\n",
    "    for idx, (train_idxs, test_idxs) in enumerate(kf.split(X)):\n",
    "        print(f'{idx}-th CV starting...')\n",
    "        train_X, test_X = X[train_idxs], X[test_idxs]\n",
    "        train_y, test_y = y[train_idxs], y[test_idxs]\n",
    "        \n",
    "        rfr = RandomForestRegressor(**rfr_kwargs)\n",
    "        rfr.fit(train_X, train_y)\n",
    "        train_y_pred = rfr.predict(train_X)\n",
    "        test_y_pred = rfr.predict(test_X)\n",
    "        \n",
    "        train_score = r2_score(train_y, train_y_pred)\n",
    "        test_score = r2_score(test_y, test_y_pred)\n",
    "        scores.append((train_score, test_score))\n",
    "        \n",
    "    train_scores = [train_score for train_score, test_score in scores]\n",
    "    test_scores = [test_score for train_score, test_score in scores]\n",
    "    train_r2 = sum(train_scores) / len(train_scores)\n",
    "    test_r2 = sum(test_scores) / len(test_scores)\n",
    "    print(f'train r2: {train_r2}, test r2: {test_r2}')\n",
    "    \n",
    "    return rfr, train_r2, test_r2"
   ]
  },
  {
   "cell_type": "code",
   "execution_count": 25,
   "id": "scenic-surge",
   "metadata": {},
   "outputs": [
    {
     "name": "stdout",
     "output_type": "stream",
     "text": [
      "stage_n: 1\n",
      "0-th CV starting...\n",
      "1-th CV starting...\n",
      "2-th CV starting...\n",
      "3-th CV starting...\n",
      "train r2: 0.3482130734453282, test r2: 0.3456344141901442\n",
      "stage_n: 2\n",
      "0-th CV starting...\n",
      "1-th CV starting...\n",
      "2-th CV starting...\n",
      "3-th CV starting...\n",
      "train r2: 0.28820206536901594, test r2: 0.2825976509464022\n",
      "stage_n: 3\n",
      "0-th CV starting...\n",
      "1-th CV starting...\n",
      "2-th CV starting...\n",
      "3-th CV starting...\n",
      "train r2: 0.2744997787997624, test r2: 0.26500725353887683\n",
      "stage_n: 4\n",
      "0-th CV starting...\n",
      "1-th CV starting...\n",
      "2-th CV starting...\n",
      "3-th CV starting...\n",
      "train r2: 0.21385796263827384, test r2: 0.19966774547303934\n"
     ]
    }
   ],
   "source": [
    "outs = {}\n",
    "for stage_n in [1, 2, 3, 4]:\n",
    "    print(f'stage_n: {stage_n}')\n",
    "    stage_df = df[df.stage == stage_n]\n",
    "    sub_cols = [col for col in predictor_cols if col != 'stage']\n",
    "    stage_X, stage_y = stage_df[sub_cols], stage_df[target_col]\n",
    "    rfr, train_r2, test_r2 = cv_train(stage_X, stage_y, cv_n = 4)\n",
    "    outs[stage_n] = {'rfr': rfr, 'train_r2': train_r2, 'test_r2': test_r2}"
   ]
  },
  {
   "cell_type": "markdown",
   "id": "sharing-reconstruction",
   "metadata": {},
   "source": [
    "### 2a. Train with Column `stage`"
   ]
  },
  {
   "cell_type": "code",
   "execution_count": 24,
   "id": "protective-coordinate",
   "metadata": {},
   "outputs": [
    {
     "name": "stdout",
     "output_type": "stream",
     "text": [
      "0-th CV starting...\n",
      "1-th CV starting...\n",
      "2-th CV starting...\n",
      "3-th CV starting...\n",
      "train r2: 0.6925213180447023, test r2: 0.691493338231459\n"
     ]
    }
   ],
   "source": [
    "_, _, _ = cv_train(X, y, cv_n = 4)"
   ]
  },
  {
   "cell_type": "markdown",
   "id": "partial-effect",
   "metadata": {},
   "source": [
    "### 2b. Train with Column `round_num`"
   ]
  },
  {
   "cell_type": "code",
   "execution_count": 26,
   "id": "contrary-elder",
   "metadata": {},
   "outputs": [],
   "source": [
    "alt_cols = ['round_num', 'n_pulls_self', 'n_success_self', 'n_pulls_opp']"
   ]
  },
  {
   "cell_type": "code",
   "execution_count": 27,
   "id": "worth-southwest",
   "metadata": {},
   "outputs": [],
   "source": [
    "alt_X = df[alt_cols]\n",
    "alt_y = df[target_col]"
   ]
  },
  {
   "cell_type": "code",
   "execution_count": 28,
   "id": "promotional-gambling",
   "metadata": {},
   "outputs": [
    {
     "name": "stdout",
     "output_type": "stream",
     "text": [
      "0-th CV starting...\n",
      "1-th CV starting...\n",
      "2-th CV starting...\n",
      "3-th CV starting...\n",
      "train r2: 0.6954066780830556, test r2: 0.6918985050939122\n"
     ]
    }
   ],
   "source": [
    "_, _, _ = cv_train(alt_X, alt_y, cv_n = 4)"
   ]
  },
  {
   "cell_type": "markdown",
   "id": "statutory-dayton",
   "metadata": {},
   "source": [
    "### 2c. Train on `stage =1 or stage = 2`"
   ]
  },
  {
   "cell_type": "code",
   "execution_count": 33,
   "id": "brief-accountability",
   "metadata": {},
   "outputs": [
    {
     "data": {
      "text/plain": [
       "((400000, 4), (400000,))"
      ]
     },
     "execution_count": 33,
     "metadata": {},
     "output_type": "execute_result"
    }
   ],
   "source": [
    "upper_df = df[(df.stage == 1) | (df.stage == 2)]\n",
    "upper_X = upper_df[predictor_cols]\n",
    "upper_y = upper_df[target_col]\n",
    "\n",
    "upper_X.shape, upper_y.shape"
   ]
  },
  {
   "cell_type": "code",
   "execution_count": 35,
   "id": "latter-alcohol",
   "metadata": {},
   "outputs": [
    {
     "name": "stdout",
     "output_type": "stream",
     "text": [
      "0-th CV starting...\n",
      "1-th CV starting...\n",
      "2-th CV starting...\n",
      "3-th CV starting...\n",
      "train r2: 0.5029849033497515, test r2: 0.50116329930011\n"
     ]
    }
   ],
   "source": [
    "_, _, _ = cv_train(upper_X, upper_y, cv_n = 4)"
   ]
  },
  {
   "cell_type": "markdown",
   "id": "violent-joshua",
   "metadata": {},
   "source": [
    "### 3. Partial Dependency Plot"
   ]
  },
  {
   "cell_type": "code",
   "execution_count": 36,
   "id": "widespread-manual",
   "metadata": {},
   "outputs": [
    {
     "name": "stdout",
     "output_type": "stream",
     "text": [
      "0-th CV starting...\n",
      "1-th CV starting...\n",
      "2-th CV starting...\n",
      "3-th CV starting...\n",
      "train r2: 0.6927694716442107, test r2: 0.6917177814689923\n"
     ]
    }
   ],
   "source": [
    "rfr, _, _ = cv_train(X, y, cv_n = 4)"
   ]
  },
  {
   "cell_type": "code",
   "execution_count": 40,
   "id": "interstate-electron",
   "metadata": {},
   "outputs": [
    {
     "data": {
      "text/plain": [
       "array([0.46010352, 0.47738955])"
      ]
     },
     "execution_count": 40,
     "metadata": {},
     "output_type": "execute_result"
    }
   ],
   "source": [
    "rfr.predict([[1, 13, 10, 4], [1, 4, 2, 13]])"
   ]
  },
  {
   "cell_type": "code",
   "execution_count": 45,
   "id": "operational-spiritual",
   "metadata": {},
   "outputs": [
    {
     "data": {
      "text/plain": [
       "array([0.65553123, 0.54389516, 0.44436837, 0.51944435])"
      ]
     },
     "execution_count": 45,
     "metadata": {},
     "output_type": "execute_result"
    }
   ],
   "source": [
    "rfr.predict([[i, 5, 5, 0] for i in range(1, 5)])"
   ]
  },
  {
   "cell_type": "code",
   "execution_count": 46,
   "id": "pending-healing",
   "metadata": {},
   "outputs": [],
   "source": [
    "from sklearn.inspection import plot_partial_dependence"
   ]
  },
  {
   "cell_type": "code",
   "execution_count": 52,
   "id": "compact-columbus",
   "metadata": {},
   "outputs": [
    {
     "data": {
      "image/png": "[encoded data removed]",
      "text/plain": [
       "<Figure size 432x288 with 6 Axes>"
      ]
     },
     "metadata": {
      "needs_background": "light"
     },
     "output_type": "display_data"
    }
   ],
   "source": [
    "plot_partial_dependence(rfr, X, [0, 1, 2, 3, (0, 3)]);\n",
    "plt.tight_layout()"
   ]
  },
  {
   "cell_type": "code",
   "execution_count": null,
   "id": "nuclear-multimedia",
   "metadata": {},
   "outputs": [],
   "source": []
  }
 ],
 "metadata": {
  "kernelspec": {
   "display_name": "Python 3",
   "language": "python",
   "name": "python3"
  },
  "language_info": {
   "codemirror_mode": {
    "name": "ipython",
    "version": 3
   },
   "file_extension": ".py",
   "mimetype": "text/x-python",
   "name": "python",
   "nbconvert_exporter": "python",
   "pygments_lexer": "ipython3",
   "version": "3.7.9"
  }
 },
 "nbformat": 4,
 "nbformat_minor": 5
}

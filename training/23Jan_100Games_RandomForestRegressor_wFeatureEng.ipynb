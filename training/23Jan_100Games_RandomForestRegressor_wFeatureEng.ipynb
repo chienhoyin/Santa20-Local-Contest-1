{
 "cells": [
  {
   "cell_type": "markdown",
   "id": "revolutionary-nowhere",
   "metadata": {},
   "source": [
    "### SUMMARY EXECUTIVE\n",
    "- RandomForestRegressor has decaying predictive power over stage (1-4)\n",
    "- Seems like only `stage`, `round_num` are important features"
   ]
  },
  {
   "cell_type": "code",
   "execution_count": 1,
   "id": "minus-impact",
   "metadata": {},
   "outputs": [],
   "source": [
    "import os\n",
    "import joblib\n",
    "\n",
    "import numpy as np\n",
    "import pandas as pd\n",
    "import matplotlib.pyplot as plt\n",
    "\n",
    "from sklearn.model_selection import GridSearchCV\n",
    "from sklearn.metrics import mean_squared_error, mean_absolute_error, r2_score\n",
    "from sklearn.model_selection import train_test_split\n",
    "from sklearn.ensemble import RandomForestRegressor\n",
    "\n",
    "%matplotlib inline\n",
    "%load_ext autoreload\n",
    "%autoreload 2"
   ]
  },
  {
   "cell_type": "markdown",
   "id": "numeric-skating",
   "metadata": {},
   "source": [
    "### 0. Prepare Dataset"
   ]
  },
  {
   "cell_type": "code",
   "execution_count": 2,
   "id": "cooperative-queens",
   "metadata": {},
   "outputs": [
    {
     "data": {
      "text/plain": [
       "(799600, 11)"
      ]
     },
     "execution_count": 2,
     "metadata": {},
     "output_type": "execute_result"
    }
   ],
   "source": [
    "csv_path = '../dataset/topagent_dataset/100_games_wconsec.csv'\n",
    "df = pd.read_csv(csv_path)\n",
    "df.shape"
   ]
  },
  {
   "cell_type": "code",
   "execution_count": 3,
   "id": "checked-courtesy",
   "metadata": {},
   "outputs": [],
   "source": [
    "def group_round(round_num):\n",
    "    if round_num <= 500:\n",
    "        stage = 1\n",
    "    elif round_num <= 1000:\n",
    "        stage = 2\n",
    "    elif round_num <= 1500:\n",
    "        stage = 3\n",
    "    else:\n",
    "        stage = 4\n",
    "    return stage"
   ]
  },
  {
   "cell_type": "code",
   "execution_count": 4,
   "id": "occupational-criterion",
   "metadata": {},
   "outputs": [],
   "source": [
    "df['stage'] = df.round_num.apply(lambda n: group_round(n))"
   ]
  },
  {
   "cell_type": "code",
   "execution_count": 5,
   "id": "refined-monkey",
   "metadata": {},
   "outputs": [
    {
     "data": {
      "text/plain": [
       "((200000, 12), (200000, 12), (200000, 12))"
      ]
     },
     "execution_count": 5,
     "metadata": {},
     "output_type": "execute_result"
    }
   ],
   "source": [
    "df[df.stage == 1].shape, df[df.stage == 2].shape, df[df.stage == 3].shape"
   ]
  },
  {
   "cell_type": "code",
   "execution_count": 6,
   "id": "orange-mitchell",
   "metadata": {},
   "outputs": [],
   "source": [
    "df = df.sample(frac = 1, random_state = 0).reset_index(drop = True)"
   ]
  },
  {
   "cell_type": "code",
   "execution_count": 7,
   "id": "advance-vegetable",
   "metadata": {},
   "outputs": [
    {
     "data": {
      "text/plain": [
       "['round_num',\n",
       " 'machine_id',\n",
       " 'agent_id',\n",
       " 'n_pulls_self',\n",
       " 'n_success_self',\n",
       " 'n_pulls_opp',\n",
       " 'payout',\n",
       " 'n_consec2_opp',\n",
       " 'n_consec3_opp',\n",
       " 'n_consec4_opp',\n",
       " 'n_consec5_opp',\n",
       " 'stage']"
      ]
     },
     "execution_count": 7,
     "metadata": {},
     "output_type": "execute_result"
    }
   ],
   "source": [
    "list(df)"
   ]
  },
  {
   "cell_type": "code",
   "execution_count": 8,
   "id": "sought-channel",
   "metadata": {},
   "outputs": [],
   "source": [
    "predictor_cols = [\n",
    "    'stage', 'n_pulls_self', 'n_success_self', 'n_pulls_opp', \n",
    "    'n_consec2_opp', 'n_consec3_opp', 'n_consec4_opp', 'n_consec5_opp'\n",
    "]\n",
    "target_col = 'payout'"
   ]
  },
  {
   "cell_type": "code",
   "execution_count": 9,
   "id": "measured-anger",
   "metadata": {},
   "outputs": [
    {
     "data": {
      "text/plain": [
       "((799600, 8), (799600,))"
      ]
     },
     "execution_count": 9,
     "metadata": {},
     "output_type": "execute_result"
    }
   ],
   "source": [
    "X, y = df[predictor_cols], df[target_col]\n",
    "X.shape, y.shape"
   ]
  },
  {
   "cell_type": "markdown",
   "id": "defensive-restriction",
   "metadata": {},
   "source": [
    "### How many Rows with Consec K != 0"
   ]
  },
  {
   "cell_type": "code",
   "execution_count": 29,
   "id": "emerging-brunswick",
   "metadata": {},
   "outputs": [
    {
     "data": {
      "text/plain": [
       "0.8569184592296148"
      ]
     },
     "execution_count": 29,
     "metadata": {},
     "output_type": "execute_result"
    }
   ],
   "source": [
    "X[X.n_consec2_opp > 0].shape[0] / X.shape[0]"
   ]
  },
  {
   "cell_type": "code",
   "execution_count": 34,
   "id": "prompt-collaboration",
   "metadata": {},
   "outputs": [
    {
     "data": {
      "image/png": "[encoded data removed]",
      "text/plain": [
       "<Figure size 432x288 with 1 Axes>"
      ]
     },
     "metadata": {
      "needs_background": "light"
     },
     "output_type": "display_data"
    }
   ],
   "source": [
    "X.n_consec2_opp.hist();"
   ]
  },
  {
   "cell_type": "code",
   "execution_count": 30,
   "id": "guided-clearance",
   "metadata": {},
   "outputs": [
    {
     "data": {
      "text/plain": [
       "0.7357841420710355"
      ]
     },
     "execution_count": 30,
     "metadata": {},
     "output_type": "execute_result"
    }
   ],
   "source": [
    "X[X.n_consec3_opp > 0].shape[0] / X.shape[0]"
   ]
  },
  {
   "cell_type": "code",
   "execution_count": 35,
   "id": "guided-thompson",
   "metadata": {},
   "outputs": [
    {
     "data": {
      "image/png": "[encoded data removed]",
      "text/plain": [
       "<Figure size 432x288 with 1 Axes>"
      ]
     },
     "metadata": {
      "needs_background": "light"
     },
     "output_type": "display_data"
    }
   ],
   "source": [
    "X.n_consec3_opp.hist();"
   ]
  },
  {
   "cell_type": "code",
   "execution_count": 31,
   "id": "mediterranean-database",
   "metadata": {},
   "outputs": [
    {
     "data": {
      "text/plain": [
       "0.6099224612306153"
      ]
     },
     "execution_count": 31,
     "metadata": {},
     "output_type": "execute_result"
    }
   ],
   "source": [
    "X[X.n_consec4_opp > 0].shape[0] / X.shape[0]"
   ]
  },
  {
   "cell_type": "code",
   "execution_count": 32,
   "id": "extra-frame",
   "metadata": {},
   "outputs": [
    {
     "data": {
      "text/plain": [
       "0.4965845422711356"
      ]
     },
     "execution_count": 32,
     "metadata": {},
     "output_type": "execute_result"
    }
   ],
   "source": [
    "X[X.n_consec5_opp > 0].shape[0] / X.shape[0]"
   ]
  },
  {
   "cell_type": "markdown",
   "id": "mexican-brisbane",
   "metadata": {},
   "source": [
    "### 1. Cross Validation Score per Stage (1/2/3/4)"
   ]
  },
  {
   "cell_type": "code",
   "execution_count": 10,
   "id": "guided-swedish",
   "metadata": {},
   "outputs": [],
   "source": [
    "from sklearn.model_selection import KFold\n",
    "\n",
    "rfr_kwargs = {\n",
    "    'criterion': 'mse', \n",
    "    'max_depth': 9, \n",
    "    'min_samples_leaf': 2}"
   ]
  },
  {
   "cell_type": "code",
   "execution_count": 11,
   "id": "accredited-emphasis",
   "metadata": {},
   "outputs": [],
   "source": [
    "def cv_train(X, y, cv_n):\n",
    "    X = X.copy().to_numpy()\n",
    "    y = y.copy().to_numpy()\n",
    "    \n",
    "    test_scores = []\n",
    "    kf = KFold(\n",
    "        n_splits = 4, \n",
    "        random_state = 0, \n",
    "        shuffle = True)\n",
    "    kf.get_n_splits(X)\n",
    "    \n",
    "    scores = []\n",
    "    for idx, (train_idxs, test_idxs) in enumerate(kf.split(X)):\n",
    "        print(f'{idx}-th CV starting...')\n",
    "        train_X, test_X = X[train_idxs], X[test_idxs]\n",
    "        train_y, test_y = y[train_idxs], y[test_idxs]\n",
    "        \n",
    "        rfr = RandomForestRegressor(**rfr_kwargs)\n",
    "        rfr.fit(train_X, train_y)\n",
    "        train_y_pred = rfr.predict(train_X)\n",
    "        test_y_pred = rfr.predict(test_X)\n",
    "        \n",
    "        train_score = r2_score(train_y, train_y_pred)\n",
    "        test_score = r2_score(test_y, test_y_pred)\n",
    "        scores.append((train_score, test_score))\n",
    "        \n",
    "    train_scores = [train_score for train_score, test_score in scores]\n",
    "    test_scores = [test_score for train_score, test_score in scores]\n",
    "    train_r2 = sum(train_scores) / len(train_scores)\n",
    "    test_r2 = sum(test_scores) / len(test_scores)\n",
    "    print(f'train r2: {train_r2}, test r2: {test_r2}')\n",
    "    \n",
    "    return rfr, train_r2, test_r2"
   ]
  },
  {
   "cell_type": "code",
   "execution_count": 12,
   "id": "scenic-surge",
   "metadata": {},
   "outputs": [
    {
     "name": "stdout",
     "output_type": "stream",
     "text": [
      "stage_n: 1\n",
      "0-th CV starting...\n",
      "1-th CV starting...\n",
      "2-th CV starting...\n",
      "3-th CV starting...\n",
      "train r2: 0.3552581240237926, test r2: 0.35147867126166626\n",
      "stage_n: 2\n",
      "0-th CV starting...\n",
      "1-th CV starting...\n",
      "2-th CV starting...\n",
      "3-th CV starting...\n",
      "train r2: 0.30920264401721764, test r2: 0.3001698224785707\n",
      "stage_n: 3\n",
      "0-th CV starting...\n",
      "1-th CV starting...\n",
      "2-th CV starting...\n",
      "3-th CV starting...\n",
      "train r2: 0.2964204148786727, test r2: 0.28318132924763956\n",
      "stage_n: 4\n",
      "0-th CV starting...\n",
      "1-th CV starting...\n",
      "2-th CV starting...\n",
      "3-th CV starting...\n",
      "train r2: 0.24322639681808791, test r2: 0.22179316833920248\n"
     ]
    }
   ],
   "source": [
    "outs = {}\n",
    "for stage_n in [1, 2, 3, 4]:\n",
    "    print(f'stage_n: {stage_n}')\n",
    "    stage_df = df[df.stage == stage_n]\n",
    "    sub_cols = [col for col in predictor_cols if col != 'stage']\n",
    "    stage_X, stage_y = stage_df[sub_cols], stage_df[target_col]\n",
    "    rfr, train_r2, test_r2 = cv_train(stage_X, stage_y, cv_n = 4)\n",
    "    outs[stage_n] = {'rfr': rfr, 'train_r2': train_r2, 'test_r2': test_r2}"
   ]
  },
  {
   "cell_type": "markdown",
   "id": "agricultural-bronze",
   "metadata": {},
   "source": [
    "### 2a. Train without Filtering by Stage"
   ]
  },
  {
   "cell_type": "code",
   "execution_count": 20,
   "id": "played-season",
   "metadata": {},
   "outputs": [
    {
     "data": {
      "text/plain": [
       "(799600, 8)"
      ]
     },
     "execution_count": 20,
     "metadata": {},
     "output_type": "execute_result"
    }
   ],
   "source": [
    "X.shape"
   ]
  },
  {
   "cell_type": "code",
   "execution_count": 15,
   "id": "protective-coordinate",
   "metadata": {},
   "outputs": [
    {
     "name": "stdout",
     "output_type": "stream",
     "text": [
      "0-th CV starting...\n",
      "1-th CV starting...\n",
      "2-th CV starting...\n",
      "3-th CV starting...\n",
      "train r2: 0.6972614809793961, test r2: 0.6958417755963271\n"
     ]
    }
   ],
   "source": [
    "full_rfr, _, _ = cv_train(X, y, cv_n = 4)"
   ]
  },
  {
   "cell_type": "markdown",
   "id": "ignored-container",
   "metadata": {},
   "source": [
    "### 2b. Train with only `stage = 1 or stage = 2`"
   ]
  },
  {
   "cell_type": "code",
   "execution_count": 21,
   "id": "portable-renaissance",
   "metadata": {},
   "outputs": [],
   "source": [
    "alt_df = df[(df.stage == 1) | (df.stage == 2)]\n",
    "alt_X, alt_y = alt_df[predictor_cols], alt_df[target_col]"
   ]
  },
  {
   "cell_type": "code",
   "execution_count": 22,
   "id": "further-sweet",
   "metadata": {},
   "outputs": [
    {
     "name": "stdout",
     "output_type": "stream",
     "text": [
      "0-th CV starting...\n",
      "1-th CV starting...\n",
      "2-th CV starting...\n",
      "3-th CV starting...\n",
      "train r2: 0.5106015938658521, test r2: 0.5079346426946529\n"
     ]
    }
   ],
   "source": [
    "alt_rfr, _, _ = cv_train(alt_X, alt_y, cv_n = 4)"
   ]
  },
  {
   "cell_type": "markdown",
   "id": "violent-joshua",
   "metadata": {},
   "source": [
    "### 3a. Partial Dependency Plot"
   ]
  },
  {
   "cell_type": "code",
   "execution_count": 23,
   "id": "racial-victoria",
   "metadata": {},
   "outputs": [],
   "source": [
    "from sklearn.inspection import plot_partial_dependence"
   ]
  },
  {
   "cell_type": "code",
   "execution_count": 24,
   "id": "interstate-electron",
   "metadata": {},
   "outputs": [
    {
     "data": {
      "text/plain": [
       "array([0.46021368, 0.4854675 ])"
      ]
     },
     "execution_count": 24,
     "metadata": {},
     "output_type": "execute_result"
    }
   ],
   "source": [
    "full_rfr.predict([[1, 13, 10, 4, 0, 0, 0, 0], [1, 4, 2, 13, 0, 0, 0, 0]])"
   ]
  },
  {
   "cell_type": "code",
   "execution_count": 25,
   "id": "compact-columbus",
   "metadata": {},
   "outputs": [
    {
     "data": {
      "image/png": "[encoded data removed]",
      "text/plain": [
       "<Figure size 432x288 with 9 Axes>"
      ]
     },
     "metadata": {
      "needs_background": "light"
     },
     "output_type": "display_data"
    }
   ],
   "source": [
    "plot_partial_dependence(rfr, X, [0, 1, 2, 3, 4, 5, 6, (0, 4)]);\n",
    "plt.tight_layout()"
   ]
  },
  {
   "cell_type": "markdown",
   "id": "public-ability",
   "metadata": {},
   "source": [
    "### 3b. Feature Importance"
   ]
  },
  {
   "cell_type": "code",
   "execution_count": 26,
   "id": "matched-crest",
   "metadata": {},
   "outputs": [
    {
     "name": "stdout",
     "output_type": "stream",
     "text": [
      "Feature ranking:\n",
      "1. feature 0 (0.815647)\n",
      "2. feature 1 (0.087893)\n",
      "3. feature 2 (0.058047)\n",
      "4. feature 3 (0.024898)\n",
      "5. feature 4 (0.009793)\n",
      "6. feature 5 (0.002584)\n",
      "7. feature 6 (0.000679)\n",
      "8. feature 7 (0.000458)\n"
     ]
    },
    {
     "data": {
      "image/png": "[encoded data removed]",
      "text/plain": [
       "<Figure size 432x288 with 1 Axes>"
      ]
     },
     "metadata": {
      "needs_background": "light"
     },
     "output_type": "display_data"
    }
   ],
   "source": [
    "importances = full_rfr.feature_importances_\n",
    "std = np.std([tree.feature_importances_ for tree in full_rfr.estimators_],\n",
    "             axis = 0)\n",
    "indices = np.argsort(importances)[::-1]\n",
    "\n",
    "# Print the feature ranking\n",
    "print(\"Feature ranking:\")\n",
    "for f in range(X.shape[1]):\n",
    "    print(\"%d. feature %d (%f)\" % (f + 1, indices[f], importances[indices[f]]))\n",
    "\n",
    "# Plot the impurity-based feature importances of the forest\n",
    "plt.figure()\n",
    "plt.title(\"Feature importances\")\n",
    "plt.bar(\n",
    "    range(X.shape[1]), importances[indices],\n",
    "    color = \"r\", yerr = std[indices], align = \"center\")\n",
    "plt.xticks(range(X.shape[1]), indices)\n",
    "plt.xlim([-1, X.shape[1]])\n",
    "plt.show()"
   ]
  },
  {
   "cell_type": "code",
   "execution_count": null,
   "id": "unavailable-cable",
   "metadata": {},
   "outputs": [],
   "source": []
  }
 ],
 "metadata": {
  "kernelspec": {
   "display_name": "Python 3",
   "language": "python",
   "name": "python3"
  },
  "language_info": {
   "codemirror_mode": {
    "name": "ipython",
    "version": 3
   },
   "file_extension": ".py",
   "mimetype": "text/x-python",
   "name": "python",
   "nbconvert_exporter": "python",
   "pygments_lexer": "ipython3",
   "version": "3.7.9"
  }
 },
 "nbformat": 4,
 "nbformat_minor": 5
}

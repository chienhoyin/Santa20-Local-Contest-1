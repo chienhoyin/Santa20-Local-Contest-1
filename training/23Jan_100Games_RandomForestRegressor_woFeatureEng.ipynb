{
 "cells": [
  {
   "cell_type": "code",
   "execution_count": 1,
   "id": "distinguished-mother",
   "metadata": {},
   "outputs": [],
   "source": [
    "import os\n",
    "import joblib\n",
    "\n",
    "import numpy as np\n",
    "import pandas as pd\n",
    "import matplotlib.pyplot as plt\n",
    "\n",
    "from sklearn.model_selection import GridSearchCV\n",
    "from sklearn.metrics import mean_squared_error, mean_absolute_error, r2_score\n",
    "from sklearn.model_selection import train_test_split\n",
    "from sklearn.ensemble import RandomForestRegressor\n",
    "\n",
    "%matplotlib inline\n",
    "%load_ext autoreload\n",
    "%autoreload 2"
   ]
  },
  {
   "cell_type": "markdown",
   "id": "defined-planet",
   "metadata": {},
   "source": [
    "### 1a. Train, Test Split"
   ]
  },
  {
   "cell_type": "code",
   "execution_count": 2,
   "id": "formed-california",
   "metadata": {},
   "outputs": [
    {
     "data": {
      "text/plain": [
       "(799600, 7)"
      ]
     },
     "execution_count": 2,
     "metadata": {},
     "output_type": "execute_result"
    }
   ],
   "source": [
    "csv_path = '../dataset/topagent_dataset/100_games.csv'\n",
    "df = pd.read_csv(csv_path)\n",
    "df.shape"
   ]
  },
  {
   "cell_type": "code",
   "execution_count": 3,
   "id": "demonstrated-feature",
   "metadata": {},
   "outputs": [
    {
     "data": {
      "text/html": [
       "<div>\n",
       "<style scoped>\n",
       "    .dataframe tbody tr th:only-of-type {\n",
       "        vertical-align: middle;\n",
       "    }\n",
       "\n",
       "    .dataframe tbody tr th {\n",
       "        vertical-align: top;\n",
       "    }\n",
       "\n",
       "    .dataframe thead th {\n",
       "        text-align: right;\n",
       "    }\n",
       "</style>\n",
       "<table border=\"1\" class=\"dataframe\">\n",
       "  <thead>\n",
       "    <tr style=\"text-align: right;\">\n",
       "      <th></th>\n",
       "      <th>round_num</th>\n",
       "      <th>machine_id</th>\n",
       "      <th>agent_id</th>\n",
       "      <th>n_pulls_self</th>\n",
       "      <th>n_success_self</th>\n",
       "      <th>n_pulls_opp</th>\n",
       "      <th>payout</th>\n",
       "    </tr>\n",
       "  </thead>\n",
       "  <tbody>\n",
       "    <tr>\n",
       "      <th>0</th>\n",
       "      <td>1</td>\n",
       "      <td>69</td>\n",
       "      <td>0</td>\n",
       "      <td>1</td>\n",
       "      <td>0</td>\n",
       "      <td>0</td>\n",
       "      <td>0.1746</td>\n",
       "    </tr>\n",
       "    <tr>\n",
       "      <th>1</th>\n",
       "      <td>1</td>\n",
       "      <td>69</td>\n",
       "      <td>1</td>\n",
       "      <td>0</td>\n",
       "      <td>0</td>\n",
       "      <td>1</td>\n",
       "      <td>0.1746</td>\n",
       "    </tr>\n",
       "    <tr>\n",
       "      <th>2</th>\n",
       "      <td>1</td>\n",
       "      <td>94</td>\n",
       "      <td>1</td>\n",
       "      <td>1</td>\n",
       "      <td>0</td>\n",
       "      <td>0</td>\n",
       "      <td>0.0000</td>\n",
       "    </tr>\n",
       "    <tr>\n",
       "      <th>3</th>\n",
       "      <td>1</td>\n",
       "      <td>94</td>\n",
       "      <td>0</td>\n",
       "      <td>0</td>\n",
       "      <td>0</td>\n",
       "      <td>1</td>\n",
       "      <td>0.0000</td>\n",
       "    </tr>\n",
       "    <tr>\n",
       "      <th>4</th>\n",
       "      <td>2</td>\n",
       "      <td>63</td>\n",
       "      <td>0</td>\n",
       "      <td>1</td>\n",
       "      <td>1</td>\n",
       "      <td>0</td>\n",
       "      <td>0.7469</td>\n",
       "    </tr>\n",
       "  </tbody>\n",
       "</table>\n",
       "</div>"
      ],
      "text/plain": [
       "   round_num  machine_id  agent_id  n_pulls_self  n_success_self  n_pulls_opp  \\\n",
       "0          1          69         0             1               0            0   \n",
       "1          1          69         1             0               0            1   \n",
       "2          1          94         1             1               0            0   \n",
       "3          1          94         0             0               0            1   \n",
       "4          2          63         0             1               1            0   \n",
       "\n",
       "   payout  \n",
       "0  0.1746  \n",
       "1  0.1746  \n",
       "2  0.0000  \n",
       "3  0.0000  \n",
       "4  0.7469  "
      ]
     },
     "execution_count": 3,
     "metadata": {},
     "output_type": "execute_result"
    }
   ],
   "source": [
    "df.head()"
   ]
  },
  {
   "cell_type": "code",
   "execution_count": 4,
   "id": "southwest-belle",
   "metadata": {},
   "outputs": [
    {
     "data": {
      "text/plain": [
       "['round_num',\n",
       " 'machine_id',\n",
       " 'agent_id',\n",
       " 'n_pulls_self',\n",
       " 'n_success_self',\n",
       " 'n_pulls_opp',\n",
       " 'payout']"
      ]
     },
     "execution_count": 4,
     "metadata": {},
     "output_type": "execute_result"
    }
   ],
   "source": [
    "list(df)"
   ]
  },
  {
   "cell_type": "code",
   "execution_count": 5,
   "id": "passive-sauce",
   "metadata": {},
   "outputs": [],
   "source": [
    "predictor_cols = ['round_num', 'n_pulls_self', 'n_success_self', 'n_pulls_opp']\n",
    "target_col = 'payout'"
   ]
  },
  {
   "cell_type": "code",
   "execution_count": 6,
   "id": "loved-outreach",
   "metadata": {},
   "outputs": [],
   "source": [
    "df = df.sample(frac = 1, random_state = 0).reset_index(drop = True)"
   ]
  },
  {
   "cell_type": "code",
   "execution_count": 7,
   "id": "devoted-calibration",
   "metadata": {},
   "outputs": [
    {
     "data": {
      "text/html": [
       "<div>\n",
       "<style scoped>\n",
       "    .dataframe tbody tr th:only-of-type {\n",
       "        vertical-align: middle;\n",
       "    }\n",
       "\n",
       "    .dataframe tbody tr th {\n",
       "        vertical-align: top;\n",
       "    }\n",
       "\n",
       "    .dataframe thead th {\n",
       "        text-align: right;\n",
       "    }\n",
       "</style>\n",
       "<table border=\"1\" class=\"dataframe\">\n",
       "  <thead>\n",
       "    <tr style=\"text-align: right;\">\n",
       "      <th></th>\n",
       "      <th>round_num</th>\n",
       "      <th>machine_id</th>\n",
       "      <th>agent_id</th>\n",
       "      <th>n_pulls_self</th>\n",
       "      <th>n_success_self</th>\n",
       "      <th>n_pulls_opp</th>\n",
       "      <th>payout</th>\n",
       "    </tr>\n",
       "  </thead>\n",
       "  <tbody>\n",
       "    <tr>\n",
       "      <th>0</th>\n",
       "      <td>1242</td>\n",
       "      <td>38</td>\n",
       "      <td>1</td>\n",
       "      <td>10</td>\n",
       "      <td>5</td>\n",
       "      <td>13</td>\n",
       "      <td>0.282895</td>\n",
       "    </tr>\n",
       "    <tr>\n",
       "      <th>1</th>\n",
       "      <td>832</td>\n",
       "      <td>26</td>\n",
       "      <td>1</td>\n",
       "      <td>16</td>\n",
       "      <td>8</td>\n",
       "      <td>14</td>\n",
       "      <td>0.304765</td>\n",
       "    </tr>\n",
       "    <tr>\n",
       "      <th>2</th>\n",
       "      <td>141</td>\n",
       "      <td>47</td>\n",
       "      <td>1</td>\n",
       "      <td>6</td>\n",
       "      <td>4</td>\n",
       "      <td>8</td>\n",
       "      <td>0.574496</td>\n",
       "    </tr>\n",
       "    <tr>\n",
       "      <th>3</th>\n",
       "      <td>1614</td>\n",
       "      <td>48</td>\n",
       "      <td>0</td>\n",
       "      <td>29</td>\n",
       "      <td>17</td>\n",
       "      <td>18</td>\n",
       "      <td>0.217427</td>\n",
       "    </tr>\n",
       "    <tr>\n",
       "      <th>4</th>\n",
       "      <td>648</td>\n",
       "      <td>61</td>\n",
       "      <td>0</td>\n",
       "      <td>2</td>\n",
       "      <td>1</td>\n",
       "      <td>2</td>\n",
       "      <td>0.230176</td>\n",
       "    </tr>\n",
       "  </tbody>\n",
       "</table>\n",
       "</div>"
      ],
      "text/plain": [
       "   round_num  machine_id  agent_id  n_pulls_self  n_success_self  n_pulls_opp  \\\n",
       "0       1242          38         1            10               5           13   \n",
       "1        832          26         1            16               8           14   \n",
       "2        141          47         1             6               4            8   \n",
       "3       1614          48         0            29              17           18   \n",
       "4        648          61         0             2               1            2   \n",
       "\n",
       "     payout  \n",
       "0  0.282895  \n",
       "1  0.304765  \n",
       "2  0.574496  \n",
       "3  0.217427  \n",
       "4  0.230176  "
      ]
     },
     "execution_count": 7,
     "metadata": {},
     "output_type": "execute_result"
    }
   ],
   "source": [
    "df.head()"
   ]
  },
  {
   "cell_type": "code",
   "execution_count": 8,
   "id": "introductory-occurrence",
   "metadata": {},
   "outputs": [],
   "source": [
    "X = df[predictor_cols]\n",
    "y = df[target_col]"
   ]
  },
  {
   "cell_type": "code",
   "execution_count": 9,
   "id": "minus-vector",
   "metadata": {},
   "outputs": [
    {
     "data": {
      "text/plain": [
       "((799600, 4), (799600,))"
      ]
     },
     "execution_count": 9,
     "metadata": {},
     "output_type": "execute_result"
    }
   ],
   "source": [
    "X.shape, y.shape"
   ]
  },
  {
   "cell_type": "markdown",
   "id": "local-sandwich",
   "metadata": {},
   "source": [
    "### 1b. Feature Engineering"
   ]
  },
  {
   "cell_type": "code",
   "execution_count": null,
   "id": "proved-forum",
   "metadata": {},
   "outputs": [],
   "source": [
    "# round_num: group into class\n",
    "# consecutive k flag"
   ]
  },
  {
   "cell_type": "markdown",
   "id": "divided-closing",
   "metadata": {},
   "source": [
    "### 2a. Grid Search Training\n",
    "- Sample Code on grid search:\n",
    "```\n",
    "model = RandomForestRegressor()\n",
    "grid = GridSearchCV(\n",
    "    model, params, cv = 5, \n",
    "    scoring = wrapped_r2_score)\n",
    "grid.best_params_\n",
    "grid.best_score_\n",
    "```\n",
    "\n",
    "- Sample code on timing train time\n",
    "```\n",
    "%%time\n",
    "final_rfr = RandomForestRegressor(n_jobs = 10)\n",
    "final_rfr.fit(X.head(100000), y.head(100000))\n",
    "```"
   ]
  },
  {
   "cell_type": "code",
   "execution_count": 11,
   "id": "surface-power",
   "metadata": {},
   "outputs": [
    {
     "data": {
      "text/plain": [
       "((799600, 7), (100000, 7))"
      ]
     },
     "execution_count": 11,
     "metadata": {},
     "output_type": "execute_result"
    }
   ],
   "source": [
    "sub_df = df.sample(n = 100000, random_state = 0).reset_index(drop = True)\n",
    "df.shape, sub_df.shape"
   ]
  },
  {
   "cell_type": "code",
   "execution_count": 12,
   "id": "novel-montreal",
   "metadata": {},
   "outputs": [],
   "source": [
    "sub_X = sub_df[predictor_cols]\n",
    "sub_y = sub_df[target_col]"
   ]
  },
  {
   "cell_type": "code",
   "execution_count": 13,
   "id": "elect-rabbit",
   "metadata": {},
   "outputs": [],
   "source": [
    "rfr_params = {\n",
    "    'criterion': ['mse', 'mae'],\n",
    "    'max_depth': [3, 6, 9],\n",
    "    'min_samples_leaf': [2, 0.05, 0.1]\n",
    "}"
   ]
  },
  {
   "cell_type": "code",
   "execution_count": 14,
   "id": "potential-ability",
   "metadata": {},
   "outputs": [],
   "source": [
    "def wrapped_r2_score(estimator, X, y):\n",
    "    y_pred = estimator.predict(X)\n",
    "    score = r2_score(y, y_pred)\n",
    "    return score"
   ]
  },
  {
   "cell_type": "code",
   "execution_count": 15,
   "id": "separate-dairy",
   "metadata": {},
   "outputs": [],
   "source": [
    "model = RandomForestRegressor()\n",
    "grid = GridSearchCV(\n",
    "    model, rfr_params, cv = 4,\n",
    "    n_jobs = 10, scoring = wrapped_r2_score)"
   ]
  },
  {
   "cell_type": "code",
   "execution_count": 16,
   "id": "tamil-strengthening",
   "metadata": {},
   "outputs": [
    {
     "data": {
      "text/plain": [
       "GridSearchCV(cv=4, estimator=RandomForestRegressor(), n_jobs=10,\n",
       "             param_grid={'criterion': ['mse', 'mae'], 'max_depth': [3, 6, 9],\n",
       "                         'min_samples_leaf': [2, 0.05, 0.1]},\n",
       "             scoring=<function wrapped_r2_score at 0x7f0ea19f00e0>)"
      ]
     },
     "execution_count": 16,
     "metadata": {},
     "output_type": "execute_result"
    }
   ],
   "source": [
    "grid.fit(sub_X, sub_y)"
   ]
  },
  {
   "cell_type": "code",
   "execution_count": 22,
   "id": "adjusted-brick",
   "metadata": {},
   "outputs": [
    {
     "data": {
      "text/html": [
       "<div>\n",
       "<style scoped>\n",
       "    .dataframe tbody tr th:only-of-type {\n",
       "        vertical-align: middle;\n",
       "    }\n",
       "\n",
       "    .dataframe tbody tr th {\n",
       "        vertical-align: top;\n",
       "    }\n",
       "\n",
       "    .dataframe thead th {\n",
       "        text-align: right;\n",
       "    }\n",
       "</style>\n",
       "<table border=\"1\" class=\"dataframe\">\n",
       "  <thead>\n",
       "    <tr style=\"text-align: right;\">\n",
       "      <th></th>\n",
       "      <th>mean_fit_time</th>\n",
       "      <th>std_fit_time</th>\n",
       "      <th>mean_score_time</th>\n",
       "      <th>std_score_time</th>\n",
       "      <th>param_criterion</th>\n",
       "      <th>param_max_depth</th>\n",
       "      <th>param_min_samples_leaf</th>\n",
       "      <th>params</th>\n",
       "      <th>split0_test_score</th>\n",
       "      <th>split1_test_score</th>\n",
       "      <th>split2_test_score</th>\n",
       "      <th>split3_test_score</th>\n",
       "      <th>mean_test_score</th>\n",
       "      <th>std_test_score</th>\n",
       "      <th>rank_test_score</th>\n",
       "    </tr>\n",
       "  </thead>\n",
       "  <tbody>\n",
       "    <tr>\n",
       "      <th>0</th>\n",
       "      <td>4.065744</td>\n",
       "      <td>0.486210</td>\n",
       "      <td>0.089635</td>\n",
       "      <td>0.002796</td>\n",
       "      <td>mse</td>\n",
       "      <td>3</td>\n",
       "      <td>2</td>\n",
       "      <td>{'criterion': 'mse', 'max_depth': 3, 'min_samp...</td>\n",
       "      <td>0.603521</td>\n",
       "      <td>0.613286</td>\n",
       "      <td>0.610812</td>\n",
       "      <td>0.613893</td>\n",
       "      <td>0.610378</td>\n",
       "      <td>0.004124</td>\n",
       "      <td>5</td>\n",
       "    </tr>\n",
       "    <tr>\n",
       "      <th>1</th>\n",
       "      <td>3.847039</td>\n",
       "      <td>0.436526</td>\n",
       "      <td>0.086831</td>\n",
       "      <td>0.007173</td>\n",
       "      <td>mse</td>\n",
       "      <td>3</td>\n",
       "      <td>0.05</td>\n",
       "      <td>{'criterion': 'mse', 'max_depth': 3, 'min_samp...</td>\n",
       "      <td>0.596575</td>\n",
       "      <td>0.610304</td>\n",
       "      <td>0.604836</td>\n",
       "      <td>0.608504</td>\n",
       "      <td>0.605055</td>\n",
       "      <td>0.005277</td>\n",
       "      <td>9</td>\n",
       "    </tr>\n",
       "    <tr>\n",
       "      <th>2</th>\n",
       "      <td>3.283388</td>\n",
       "      <td>0.195777</td>\n",
       "      <td>0.079746</td>\n",
       "      <td>0.000559</td>\n",
       "      <td>mse</td>\n",
       "      <td>3</td>\n",
       "      <td>0.10</td>\n",
       "      <td>{'criterion': 'mse', 'max_depth': 3, 'min_samp...</td>\n",
       "      <td>0.585994</td>\n",
       "      <td>0.598276</td>\n",
       "      <td>0.594643</td>\n",
       "      <td>0.597640</td>\n",
       "      <td>0.594138</td>\n",
       "      <td>0.004898</td>\n",
       "      <td>13</td>\n",
       "    </tr>\n",
       "    <tr>\n",
       "      <th>3</th>\n",
       "      <td>7.260632</td>\n",
       "      <td>0.146728</td>\n",
       "      <td>0.141156</td>\n",
       "      <td>0.012022</td>\n",
       "      <td>mse</td>\n",
       "      <td>6</td>\n",
       "      <td>2</td>\n",
       "      <td>{'criterion': 'mse', 'max_depth': 6, 'min_samp...</td>\n",
       "      <td>0.656760</td>\n",
       "      <td>0.665204</td>\n",
       "      <td>0.656502</td>\n",
       "      <td>0.665516</td>\n",
       "      <td>0.660996</td>\n",
       "      <td>0.004367</td>\n",
       "      <td>3</td>\n",
       "    </tr>\n",
       "    <tr>\n",
       "      <th>4</th>\n",
       "      <td>4.579074</td>\n",
       "      <td>0.183410</td>\n",
       "      <td>0.107166</td>\n",
       "      <td>0.001819</td>\n",
       "      <td>mse</td>\n",
       "      <td>6</td>\n",
       "      <td>0.05</td>\n",
       "      <td>{'criterion': 'mse', 'max_depth': 6, 'min_samp...</td>\n",
       "      <td>0.598243</td>\n",
       "      <td>0.611226</td>\n",
       "      <td>0.605757</td>\n",
       "      <td>0.609936</td>\n",
       "      <td>0.606291</td>\n",
       "      <td>0.005067</td>\n",
       "      <td>8</td>\n",
       "    </tr>\n",
       "  </tbody>\n",
       "</table>\n",
       "</div>"
      ],
      "text/plain": [
       "   mean_fit_time  std_fit_time  mean_score_time  std_score_time  \\\n",
       "0       4.065744      0.486210         0.089635        0.002796   \n",
       "1       3.847039      0.436526         0.086831        0.007173   \n",
       "2       3.283388      0.195777         0.079746        0.000559   \n",
       "3       7.260632      0.146728         0.141156        0.012022   \n",
       "4       4.579074      0.183410         0.107166        0.001819   \n",
       "\n",
       "  param_criterion param_max_depth param_min_samples_leaf  \\\n",
       "0             mse               3                      2   \n",
       "1             mse               3                   0.05   \n",
       "2             mse               3                   0.10   \n",
       "3             mse               6                      2   \n",
       "4             mse               6                   0.05   \n",
       "\n",
       "                                              params  split0_test_score  \\\n",
       "0  {'criterion': 'mse', 'max_depth': 3, 'min_samp...           0.603521   \n",
       "1  {'criterion': 'mse', 'max_depth': 3, 'min_samp...           0.596575   \n",
       "2  {'criterion': 'mse', 'max_depth': 3, 'min_samp...           0.585994   \n",
       "3  {'criterion': 'mse', 'max_depth': 6, 'min_samp...           0.656760   \n",
       "4  {'criterion': 'mse', 'max_depth': 6, 'min_samp...           0.598243   \n",
       "\n",
       "   split1_test_score  split2_test_score  split3_test_score  mean_test_score  \\\n",
       "0           0.613286           0.610812           0.613893         0.610378   \n",
       "1           0.610304           0.604836           0.608504         0.605055   \n",
       "2           0.598276           0.594643           0.597640         0.594138   \n",
       "3           0.665204           0.656502           0.665516         0.660996   \n",
       "4           0.611226           0.605757           0.609936         0.606291   \n",
       "\n",
       "   std_test_score  rank_test_score  \n",
       "0        0.004124                5  \n",
       "1        0.005277                9  \n",
       "2        0.004898               13  \n",
       "3        0.004367                3  \n",
       "4        0.005067                8  "
      ]
     },
     "execution_count": 22,
     "metadata": {},
     "output_type": "execute_result"
    }
   ],
   "source": [
    "pd.DataFrame(grid.cv_results_).head()"
   ]
  },
  {
   "cell_type": "code",
   "execution_count": 18,
   "id": "spiritual-firewall",
   "metadata": {},
   "outputs": [
    {
     "data": {
      "text/plain": [
       "{'criterion': 'mse', 'max_depth': 9, 'min_samples_leaf': 2}"
      ]
     },
     "execution_count": 18,
     "metadata": {},
     "output_type": "execute_result"
    }
   ],
   "source": [
    "grid.best_params_"
   ]
  },
  {
   "cell_type": "code",
   "execution_count": 29,
   "id": "professional-greeting",
   "metadata": {},
   "outputs": [
    {
     "data": {
      "text/plain": [
       "0.689596035503381"
      ]
     },
     "execution_count": 29,
     "metadata": {},
     "output_type": "execute_result"
    }
   ],
   "source": [
    "grid.best_score_"
   ]
  },
  {
   "cell_type": "code",
   "execution_count": null,
   "id": "designing-funds",
   "metadata": {},
   "outputs": [],
   "source": [
    "# train avg scores v.s. test avg scores"
   ]
  },
  {
   "cell_type": "markdown",
   "id": "technical-offense",
   "metadata": {},
   "source": [
    "### 2b. Second Times of Grid Search with Higher `max_depth`"
   ]
  },
  {
   "cell_type": "code",
   "execution_count": 23,
   "id": "specific-commerce",
   "metadata": {},
   "outputs": [],
   "source": [
    "sec_rfr_params = {\n",
    "    'criterion': ['mse'],\n",
    "    'max_depth': [9, 12, 15, 17],\n",
    "    'min_samples_leaf': [2, 5]\n",
    "}"
   ]
  },
  {
   "cell_type": "code",
   "execution_count": 24,
   "id": "labeled-banking",
   "metadata": {},
   "outputs": [],
   "source": [
    "model = RandomForestRegressor()\n",
    "sec_grid = GridSearchCV(\n",
    "    model, sec_rfr_params, cv = 4,\n",
    "    n_jobs = 10, scoring = wrapped_r2_score)"
   ]
  },
  {
   "cell_type": "code",
   "execution_count": 25,
   "id": "suspected-memory",
   "metadata": {},
   "outputs": [
    {
     "data": {
      "text/plain": [
       "GridSearchCV(cv=4, estimator=RandomForestRegressor(), n_jobs=10,\n",
       "             param_grid={'criterion': ['mse'], 'max_depth': [9, 12, 15, 17],\n",
       "                         'min_samples_leaf': [2, 5]},\n",
       "             scoring=<function wrapped_r2_score at 0x7f0ea19f00e0>)"
      ]
     },
     "execution_count": 25,
     "metadata": {},
     "output_type": "execute_result"
    }
   ],
   "source": [
    "sec_grid.fit(sub_X, sub_y)"
   ]
  },
  {
   "cell_type": "code",
   "execution_count": 28,
   "id": "nasty-albany",
   "metadata": {},
   "outputs": [
    {
     "data": {
      "text/plain": [
       "{'criterion': 'mse', 'max_depth': 12, 'min_samples_leaf': 5}"
      ]
     },
     "execution_count": 28,
     "metadata": {},
     "output_type": "execute_result"
    }
   ],
   "source": [
    "sec_grid.best_params_"
   ]
  },
  {
   "cell_type": "code",
   "execution_count": 30,
   "id": "accepted-shanghai",
   "metadata": {},
   "outputs": [
    {
     "data": {
      "text/plain": [
       "0.6936235012673624"
      ]
     },
     "execution_count": 30,
     "metadata": {},
     "output_type": "execute_result"
    }
   ],
   "source": [
    "sec_grid.best_score_"
   ]
  },
  {
   "cell_type": "markdown",
   "id": "expired-measurement",
   "metadata": {},
   "source": [
    "### Condition: Cross Validation on Full Dataset with Best Param\n",
    "- Best parameters found\n",
    "```\n",
    "First Search: {'criterion': 'mse', 'max_depth': 9, 'min_samples_leaf': 2}\n",
    "Second Search: {'criterion': 'mse', 'max_depth': 12, 'min_samples_leaf': 5}\n",
    "```"
   ]
  },
  {
   "cell_type": "markdown",
   "id": "desperate-permission",
   "metadata": {},
   "source": [
    "### 3. Retrain with Best Param and Save Models"
   ]
  },
  {
   "cell_type": "code",
   "execution_count": 19,
   "id": "accredited-death",
   "metadata": {},
   "outputs": [],
   "source": [
    "best_params = grid.best_params_"
   ]
  },
  {
   "cell_type": "code",
   "execution_count": 20,
   "id": "alike-dimension",
   "metadata": {},
   "outputs": [
    {
     "data": {
      "text/plain": [
       "RandomForestRegressor(max_depth=9, min_samples_leaf=2)"
      ]
     },
     "execution_count": 20,
     "metadata": {},
     "output_type": "execute_result"
    }
   ],
   "source": [
    "final_rfr = RandomForestRegressor(**best_params)\n",
    "final_rfr.fit(X, y)"
   ]
  },
  {
   "cell_type": "code",
   "execution_count": 21,
   "id": "elder-bracelet",
   "metadata": {},
   "outputs": [
    {
     "data": {
      "text/plain": [
       "['100games_rfr.joblib']"
      ]
     },
     "execution_count": 21,
     "metadata": {},
     "output_type": "execute_result"
    }
   ],
   "source": [
    "joblib.dump(final_rfr, '100games_rfr.joblib')"
   ]
  },
  {
   "cell_type": "code",
   "execution_count": null,
   "id": "exposed-pitch",
   "metadata": {},
   "outputs": [],
   "source": []
  },
  {
   "cell_type": "markdown",
   "id": "extended-origin",
   "metadata": {},
   "source": [
    "### NOT USED"
   ]
  },
  {
   "cell_type": "code",
   "execution_count": 32,
   "id": "solid-frequency",
   "metadata": {},
   "outputs": [
    {
     "data": {
      "text/plain": [
       "(799600, 7)"
      ]
     },
     "execution_count": 32,
     "metadata": {},
     "output_type": "execute_result"
    }
   ],
   "source": [
    "csv_path = '../dataset/topagent_dataset/100_games.csv'\n",
    "df = pd.read_csv(csv_path)\n",
    "df.shape"
   ]
  },
  {
   "cell_type": "code",
   "execution_count": 34,
   "id": "forty-recruitment",
   "metadata": {},
   "outputs": [
    {
     "data": {
      "text/html": [
       "<div>\n",
       "<style scoped>\n",
       "    .dataframe tbody tr th:only-of-type {\n",
       "        vertical-align: middle;\n",
       "    }\n",
       "\n",
       "    .dataframe tbody tr th {\n",
       "        vertical-align: top;\n",
       "    }\n",
       "\n",
       "    .dataframe thead th {\n",
       "        text-align: right;\n",
       "    }\n",
       "</style>\n",
       "<table border=\"1\" class=\"dataframe\">\n",
       "  <thead>\n",
       "    <tr style=\"text-align: right;\">\n",
       "      <th></th>\n",
       "      <th>round_num</th>\n",
       "      <th>machine_id</th>\n",
       "      <th>agent_id</th>\n",
       "      <th>n_pulls_self</th>\n",
       "      <th>n_success_self</th>\n",
       "      <th>n_pulls_opp</th>\n",
       "      <th>payout</th>\n",
       "    </tr>\n",
       "  </thead>\n",
       "  <tbody>\n",
       "    <tr>\n",
       "      <th>794</th>\n",
       "      <td>199</td>\n",
       "      <td>59</td>\n",
       "      <td>1</td>\n",
       "      <td>1</td>\n",
       "      <td>0</td>\n",
       "      <td>0</td>\n",
       "      <td>0.640200</td>\n",
       "    </tr>\n",
       "    <tr>\n",
       "      <th>795</th>\n",
       "      <td>199</td>\n",
       "      <td>59</td>\n",
       "      <td>0</td>\n",
       "      <td>0</td>\n",
       "      <td>0</td>\n",
       "      <td>1</td>\n",
       "      <td>0.640200</td>\n",
       "    </tr>\n",
       "    <tr>\n",
       "      <th>796</th>\n",
       "      <td>200</td>\n",
       "      <td>15</td>\n",
       "      <td>0</td>\n",
       "      <td>13</td>\n",
       "      <td>10</td>\n",
       "      <td>4</td>\n",
       "      <td>0.500494</td>\n",
       "    </tr>\n",
       "    <tr>\n",
       "      <th>797</th>\n",
       "      <td>200</td>\n",
       "      <td>15</td>\n",
       "      <td>1</td>\n",
       "      <td>4</td>\n",
       "      <td>2</td>\n",
       "      <td>13</td>\n",
       "      <td>0.500494</td>\n",
       "    </tr>\n",
       "    <tr>\n",
       "      <th>798</th>\n",
       "      <td>200</td>\n",
       "      <td>34</td>\n",
       "      <td>1</td>\n",
       "      <td>1</td>\n",
       "      <td>1</td>\n",
       "      <td>0</td>\n",
       "      <td>0.126100</td>\n",
       "    </tr>\n",
       "    <tr>\n",
       "      <th>799</th>\n",
       "      <td>200</td>\n",
       "      <td>34</td>\n",
       "      <td>0</td>\n",
       "      <td>0</td>\n",
       "      <td>0</td>\n",
       "      <td>1</td>\n",
       "      <td>0.126100</td>\n",
       "    </tr>\n",
       "  </tbody>\n",
       "</table>\n",
       "</div>"
      ],
      "text/plain": [
       "     round_num  machine_id  agent_id  n_pulls_self  n_success_self  \\\n",
       "794        199          59         1             1               0   \n",
       "795        199          59         0             0               0   \n",
       "796        200          15         0            13              10   \n",
       "797        200          15         1             4               2   \n",
       "798        200          34         1             1               1   \n",
       "799        200          34         0             0               0   \n",
       "\n",
       "     n_pulls_opp    payout  \n",
       "794            0  0.640200  \n",
       "795            1  0.640200  \n",
       "796            4  0.500494  \n",
       "797           13  0.500494  \n",
       "798            0  0.126100  \n",
       "799            1  0.126100  "
      ]
     },
     "execution_count": 34,
     "metadata": {},
     "output_type": "execute_result"
    }
   ],
   "source": [
    "df.head(800).tail(6)"
   ]
  },
  {
   "cell_type": "code",
   "execution_count": null,
   "id": "spiritual-survey",
   "metadata": {},
   "outputs": [],
   "source": []
  }
 ],
 "metadata": {
  "kernelspec": {
   "display_name": "Python 3",
   "language": "python",
   "name": "python3"
  },
  "language_info": {
   "codemirror_mode": {
    "name": "ipython",
    "version": 3
   },
   "file_extension": ".py",
   "mimetype": "text/x-python",
   "name": "python",
   "nbconvert_exporter": "python",
   "pygments_lexer": "ipython3",
   "version": "3.7.9"
  }
 },
 "nbformat": 4,
 "nbformat_minor": 5
}
